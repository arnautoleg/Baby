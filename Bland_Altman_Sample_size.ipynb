{
  "nbformat": 4,
  "nbformat_minor": 0,
  "metadata": {
    "colab": {
      "provenance": [],
      "authorship_tag": "ABX9TyNr2s2kIwdvbGj7gwAdKqnT",
      "include_colab_link": true
    },
    "kernelspec": {
      "name": "python3",
      "display_name": "Python 3"
    },
    "language_info": {
      "name": "python"
    }
  },
  "cells": [
    {
      "cell_type": "markdown",
      "metadata": {
        "id": "view-in-github",
        "colab_type": "text"
      },
      "source": [
        "<a href=\"https://colab.research.google.com/github/arnautoleg/Baby/blob/main/Bland_Altman_Sample_size.ipynb\" target=\"_parent\"><img src=\"https://colab.research.google.com/assets/colab-badge.svg\" alt=\"Open In Colab\"/></a>"
      ]
    },
    {
      "cell_type": "code",
      "source": [
        "# https://rowannicholls.github.io/python/statistics/agreement/bland_altman_sample_size.html\n",
        "\n",
        "# https://igormintz.medium.com/the-bland-altman-plot-agreement-between-two-numerical-measurements-with-python-5504c38397c1\n",
        "\n",
        "# https://towardsdatascience.com/why-how-to-use-the-bland-altman-plot-for-a-b-testing-python-code-78712d28c362\n",
        "\n",
        "# https://github.com/nwisn/blandPower"
      ],
      "metadata": {
        "id": "4Mya2COxaHCI"
      },
      "execution_count": 1,
      "outputs": []
    },
    {
      "cell_type": "code",
      "source": [],
      "metadata": {
        "id": "TM7vqx8nL0SI"
      },
      "execution_count": null,
      "outputs": []
    },
    {
      "cell_type": "code",
      "source": [],
      "metadata": {
        "id": "O26ME5qsL0OZ"
      },
      "execution_count": null,
      "outputs": []
    },
    {
      "cell_type": "code",
      "source": [
        "# https://rowannicholls.github.io/python/statistics/agreement/bland_altman_sample_size.html"
      ],
      "metadata": {
        "id": "Ndep7A9ML0GV"
      },
      "execution_count": null,
      "outputs": []
    },
    {
      "cell_type": "code",
      "execution_count": 2,
      "metadata": {
        "id": "1x--8G2bZ1oA"
      },
      "outputs": [],
      "source": [
        "import pandas as pd\n",
        "import numpy as np\n",
        "from scipy import stats as st"
      ]
    },
    {
      "cell_type": "code",
      "source": [
        "# Pilot test data from Zhou et al (2011)\n",
        "dct = {\n",
        "    'Measurement 1 (mmol/L)': [\n",
        "        0.023, 0.022, 0.025, 0.013, 0.008, 0.017, 0.026, 0.017,\n",
        "        0.034, 0.007, 0.011, 0.006, 0.001, 0.006, 0.005, 0.007,\n",
        "        0.011, 0.002, 0.037, 0.002, 0.003, 0.013, 0.008, 0.023,\n",
        "    ],\n",
        "    'Measurement 2 (mmol/L)': [\n",
        "        0.021, 0.023, 0.024, 0.013, 0.007, 0.016, 0.022, 0.016,\n",
        "        0.032, 0.006, 0.009, 0.004, 0.001, 0.007, 0.003, 0.005,\n",
        "        0.009, 0.002, 0.036, 0.001, 0.001, 0.011, 0.007, 0.023,\n",
        "    ],\n",
        "}\n",
        "df = pd.DataFrame(dct)\n",
        "\n",
        "print(df.head())\n"
      ],
      "metadata": {
        "colab": {
          "base_uri": "https://localhost:8080/"
        },
        "id": "0FWYLM_9aDIC",
        "outputId": "22d28a39-b8ad-46f0-ef7b-ac8fa832ffed"
      },
      "execution_count": 13,
      "outputs": [
        {
          "output_type": "stream",
          "name": "stdout",
          "text": [
            "   Measurement 1 (mmol/L)  Measurement 2 (mmol/L)\n",
            "0                   0.023                   0.021\n",
            "1                   0.022                   0.023\n",
            "2                   0.025                   0.024\n",
            "3                   0.013                   0.013\n",
            "4                   0.008                   0.007\n"
          ]
        }
      ]
    },
    {
      "cell_type": "code",
      "source": [
        "# Acceptance criterion\n",
        "δ = 0.004  # mmol/L"
      ],
      "metadata": {
        "id": "CPLzBAx3bLN6"
      },
      "execution_count": 15,
      "outputs": []
    },
    {
      "cell_type": "code",
      "source": [
        "# Raw data\n",
        "measurement1 = df['Measurement 1 (mmol/L)']\n",
        "measurement2 = df['Measurement 2 (mmol/L)']\n",
        "# Means\n",
        "means = (measurement1 + measurement2) / 2\n",
        "# Differences\n",
        "diffs = measurement1 - measurement2\n",
        "# Average difference (aka the bias)\n",
        "bias = np.mean(diffs)\n",
        "# Sample standard deviation\n",
        "s = np.std(diffs, ddof=1)  # Use ddof=1 to get the sample standard deviation\n",
        "\n",
        "print(f'Bias = {round(bias, 6)}, standard deviation = {round(s, 6)}')\n"
      ],
      "metadata": {
        "colab": {
          "base_uri": "https://localhost:8080/"
        },
        "id": "Zb-Q6WXUHsTH",
        "outputId": "f8349c51-519d-475f-898c-eeb4933bcb77"
      },
      "execution_count": 16,
      "outputs": [
        {
          "output_type": "stream",
          "name": "stdout",
          "text": [
            "Bias = 0.001167, standard deviation = 0.001129\n"
          ]
        }
      ]
    },
    {
      "cell_type": "code",
      "source": [
        "# Level of agreement\n",
        "agreement = 0.95  # 95%\n",
        "# Limits of agreement (LOAs)\n",
        "loas = st.norm.interval(agreement, bias, s)\n",
        "\n",
        "print(f'The LOAs are {round(loas[0], 6)} and {round(loas[1], 6)}')\n"
      ],
      "metadata": {
        "colab": {
          "base_uri": "https://localhost:8080/"
        },
        "id": "VS5O90GDH1uY",
        "outputId": "d3c17327-15e0-43fe-d500-7b96c0056c1a"
      },
      "execution_count": 6,
      "outputs": [
        {
          "output_type": "stream",
          "name": "stdout",
          "text": [
            "The LOAs are -0.001047 and 0.00338\n"
          ]
        }
      ]
    },
    {
      "cell_type": "code",
      "source": [
        "# Confidence level\n",
        "confidence = 0.99  # 99%\n",
        "# Significance level, α\n",
        "alpha = 1 - confidence\n",
        "# Number of tails\n",
        "tails = 2\n",
        "# Quantile (the cumulative probability)\n",
        "q = 1 - (alpha / tails)\n",
        "# Sample size\n",
        "n = len(df)\n",
        "# Degrees of freedom\n",
        "dof = n - 1\n",
        "# Critical t-statistic, calculated using the percent-point function (aka the\n",
        "# quantile function) of the t-distribution\n",
        "t_star = st.t.ppf(q, dof)\n",
        "# Standard error of the LOAs\n",
        "se_loas = np.sqrt(3 * s**2 / n)\n",
        "# Endpoints of the confidence intervals\n",
        "upper_ci_upper_loa = loas[1] + t_star * se_loas\n",
        "lower_ci_lower_loa = loas[0] - t_star * se_loas\n"
      ],
      "metadata": {
        "id": "o9iOtrbYH9ON"
      },
      "execution_count": 7,
      "outputs": []
    },
    {
      "cell_type": "code",
      "source": [
        "# Loop through different sample sizes\n",
        "# Start at 2, because if we start at 1 the number of degrees of freedom is 0\n",
        "for n in np.arange(2, 1000):\n",
        "    # Degrees of freedom\n",
        "    dof = n - 1\n",
        "    # Critical t-statistic\n",
        "    t_star = st.t.ppf(q, dof)\n",
        "    # Standard error of the LOAs\n",
        "    se_loas = np.sqrt(3 * s**2 / n)\n",
        "    # Endpoints of the confidence intervals\n",
        "    upper_ci_upper_loa = loas[1] + t_star * se_loas\n",
        "    lower_ci_lower_loa = loas[0] - t_star * se_loas\n",
        "    # Test if the acceptance criterion is met\n",
        "    if upper_ci_upper_loa < δ:\n",
        "        if lower_ci_lower_loa > -δ:\n",
        "            break\n",
        "\n",
        "print(\n",
        "    f'A sample size of {n} gives endpoints of the 99% CIs at',\n",
        "    f'{round(lower_ci_lower_loa, 6)} and {round(upper_ci_upper_loa, 6)}'\n",
        ")"
      ],
      "metadata": {
        "colab": {
          "base_uri": "https://localhost:8080/"
        },
        "id": "5jAdjeNQICf9",
        "outputId": "839b719c-c8e9-4f0c-8f33-30abdc2bedcc"
      },
      "execution_count": 8,
      "outputs": [
        {
          "output_type": "stream",
          "name": "stdout",
          "text": [
            "A sample size of 70 gives endpoints of the 99% CIs at -0.001666 and 0.003999\n"
          ]
        }
      ]
    },
    {
      "cell_type": "code",
      "source": [],
      "metadata": {
        "id": "kY6OGkW6LH28"
      },
      "execution_count": null,
      "outputs": []
    },
    {
      "cell_type": "code",
      "source": [
        "# Acceptance criterion\n",
        "Δ = 1  # mmol/L"
      ],
      "metadata": {
        "id": "aPRKL_pgLIRq"
      },
      "execution_count": 20,
      "outputs": []
    },
    {
      "cell_type": "code",
      "source": [
        "#\n",
        "# power_t_TOST.R\n",
        "# Calculates the exact power of two one-sided t-tests (TOST) for one, two, and\n",
        "# paired samples.\n",
        "#\n",
        "# Assumed true difference\n",
        "delta = 0\n",
        "# Equivalence bound\n",
        "high_eqbound = Δ\n",
        "low_eqbound = -Δ\n",
        "# Significance level, α\n",
        "alpha = 0.05\n",
        "# Desired statistical power, 1 - β\n",
        "desired_power = 0.80\n",
        "\n",
        "# Iterate through many potential values for the sample size\n",
        "for n in np.arange(2, 100):\n",
        "    # Degrees of freedom\n",
        "    dof = n - 1\n",
        "    nc = np.sum(1 / n)\n",
        "    se_fac = np.sqrt(1 * nc)\n",
        "    # Standard error of the mean\n",
        "    sem = s * se_fac\n",
        "    # Non-centrality parameters\n",
        "    delta1 = (delta - low_eqbound) / sem\n",
        "    delta2 = (delta - high_eqbound) / sem\n",
        "    # Cumulative distribution function for a non-central Student's t continuous\n",
        "    # random variable\n",
        "    p1 = st.nct.cdf(0, dof, delta1)\n",
        "    p2 = st.nct.cdf(0, dof, delta2)\n",
        "    # Power\n",
        "    power = p2 - p1\n",
        "    if power > desired_power:\n",
        "        break\n",
        "\n",
        "print(f'A full study will need {n} participants to have a power of {round(power, 3)}')"
      ],
      "metadata": {
        "colab": {
          "base_uri": "https://localhost:8080/"
        },
        "id": "TVR2eDGNLIPM",
        "outputId": "b3be4be8-0dd2-422c-91f3-b2c71ab18e40"
      },
      "execution_count": 21,
      "outputs": [
        {
          "output_type": "stream",
          "name": "stdout",
          "text": [
            "A full study will need 2 participants to have a power of 1.0\n"
          ]
        }
      ]
    },
    {
      "cell_type": "code",
      "source": [
        "# https://statisticalpoint.com/bland-altman-plot-python/"
      ],
      "metadata": {
        "id": "wkGPbGlALIMr"
      },
      "execution_count": 9,
      "outputs": []
    },
    {
      "cell_type": "code",
      "source": [
        "import pandas as pd\n",
        "\n",
        "df = pd.DataFrame({'A': [5, 5, 5, 6, 6, 7, 7, 7, 8, 8, 9,\n",
        "                         10, 11, 13, 14, 14, 15, 18, 22, 25],\n",
        "                   'B': [4, 4, 5, 5, 5, 7, 8, 6, 9, 7, 7, 11,\n",
        "                         13, 13, 12, 13, 14, 19, 19, 24]})\n"
      ],
      "metadata": {
        "id": "FLEHeuHrLIJ_"
      },
      "execution_count": 10,
      "outputs": []
    },
    {
      "cell_type": "code",
      "source": [
        "import statsmodels.api as sm\n",
        "import matplotlib.pyplot as plt\n",
        "\n",
        "#create Bland-Altman plot\n",
        "f, ax = plt.subplots(1, figsize = (8,5))\n",
        "sm.graphics.mean_diff_plot(df.A, df.B, ax = ax)\n",
        "\n",
        "#display Bland-Altman plot\n",
        "plt.show()\n"
      ],
      "metadata": {
        "colab": {
          "base_uri": "https://localhost:8080/",
          "height": 506
        },
        "id": "_2aWi9z9LQta",
        "outputId": "a30c51f5-437c-4cf0-c4ac-b9c08699ccff"
      },
      "execution_count": 11,
      "outputs": [
        {
          "output_type": "display_data",
          "data": {
            "text/plain": [
              "<Figure size 800x500 with 1 Axes>"
            ],
            "image/png": "[encoded data removed]"
          },
          "metadata": {}
        }
      ]
    },
    {
      "cell_type": "code",
      "source": [
        "# The x-axis of the plot displays the average measurement of the two instruments and the y-axis displays the difference in measurements between the two instruments.\n",
        "# The black solid line represents the average difference in measurements between the two instruments while the two dashed lines represent the 95% confidence interval limits for the average difference.\n",
        "# The average difference turns out to be 0.5 and the 95% confidence interval for the average difference is [-1.86, 2.86].\n"
      ],
      "metadata": {
        "id": "Oyx4YChvLcp9"
      },
      "execution_count": null,
      "outputs": []
    },
    {
      "cell_type": "code",
      "source": [],
      "metadata": {
        "id": "KMhJlZbSRDE6"
      },
      "execution_count": null,
      "outputs": []
    },
    {
      "cell_type": "code",
      "source": [],
      "metadata": {
        "id": "GnhsJmAnRDCK"
      },
      "execution_count": null,
      "outputs": []
    },
    {
      "cell_type": "code",
      "source": [],
      "metadata": {
        "colab": {
          "base_uri": "https://localhost:8080/",
          "height": 222
        },
        "id": "BBGcjAJORC_f",
        "outputId": "b6c850b5-ee2b-4e24-b790-635365821e7e"
      },
      "execution_count": 17,
      "outputs": [
        {
          "output_type": "error",
          "ename": "NameError",
          "evalue": "name 'Δ' is not defined",
          "traceback": [
            "\u001b[0;31m---------------------------------------------------------------------------\u001b[0m",
            "\u001b[0;31mNameError\u001b[0m                                 Traceback (most recent call last)",
            "\u001b[0;32m<ipython-input-17-0b0d308bc174>\u001b[0m in \u001b[0;36m<cell line: 9>\u001b[0;34m()\u001b[0m\n\u001b[1;32m      7\u001b[0m \u001b[0mdelta\u001b[0m \u001b[0;34m=\u001b[0m \u001b[0;36m0\u001b[0m\u001b[0;34m\u001b[0m\u001b[0;34m\u001b[0m\u001b[0m\n\u001b[1;32m      8\u001b[0m \u001b[0;31m# Equivalence bound\u001b[0m\u001b[0;34m\u001b[0m\u001b[0;34m\u001b[0m\u001b[0m\n\u001b[0;32m----> 9\u001b[0;31m \u001b[0mhigh_eqbound\u001b[0m \u001b[0;34m=\u001b[0m \u001b[0mΔ\u001b[0m\u001b[0;34m\u001b[0m\u001b[0;34m\u001b[0m\u001b[0m\n\u001b[0m\u001b[1;32m     10\u001b[0m \u001b[0mlow_eqbound\u001b[0m \u001b[0;34m=\u001b[0m \u001b[0;34m-\u001b[0m\u001b[0mΔ\u001b[0m\u001b[0;34m\u001b[0m\u001b[0;34m\u001b[0m\u001b[0m\n\u001b[1;32m     11\u001b[0m \u001b[0;31m# Significance level, α\u001b[0m\u001b[0;34m\u001b[0m\u001b[0;34m\u001b[0m\u001b[0m\n",
            "\u001b[0;31mNameError\u001b[0m: name 'Δ' is not defined"
          ]
        }
      ]
    },
    {
      "cell_type": "code",
      "source": [],
      "metadata": {
        "id": "_YirGJNfRC8q"
      },
      "execution_count": null,
      "outputs": []
    },
    {
      "cell_type": "code",
      "source": [],
      "metadata": {
        "id": "mU6oQ-TFRC59"
      },
      "execution_count": null,
      "outputs": []
    }
  ]
}